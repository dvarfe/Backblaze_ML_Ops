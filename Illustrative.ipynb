{
 "cells": [
  {
   "cell_type": "code",
   "execution_count": 7,
   "id": "19baab23",
   "metadata": {},
   "outputs": [],
   "source": [
    "import pandas as pd\n",
    "from disk_analyzer.utils.constants import *"
   ]
  },
  {
   "cell_type": "markdown",
   "id": "4963100a",
   "metadata": {},
   "source": [
    "# Сбор данных"
   ]
  },
  {
   "cell_type": "code",
   "execution_count": null,
   "id": "296312ad",
   "metadata": {},
   "outputs": [],
   "source": [
    "from disk_analyzer.stages import DataCollector"
   ]
  },
  {
   "cell_type": "markdown",
   "id": "0da70c30",
   "metadata": {},
   "source": [
    "Для начала создадим объект, который соберёт из сырых данных, расположенных по путям path1, path2, path3... данные разбитые на батчи. Сырые данные - это распакованные архивы с сайта [Backblaze](https://www.backblaze.com/cloud-storage/resources/hard-drive-test-data). Собранные данные находятся в папке storage_path."
   ]
  },
  {
   "cell_type": "code",
   "execution_count": null,
   "id": "7d49b6f5",
   "metadata": {},
   "outputs": [],
   "source": [
    "paths = ['Data/Sources']\n",
    "storage_path = 'Data/Data_collected'\n",
    "batchsize = BATCHSIZE\n",
    "dc = DataCollector(paths, storage_path, batchsize=batchsize)\n",
    "dc.collect_data()"
   ]
  },
  {
   "cell_type": "markdown",
   "id": "36bf66be",
   "metadata": {},
   "source": [
    "# Препроцессинг"
   ]
  },
  {
   "cell_type": "code",
   "execution_count": null,
   "id": "e08ce2b2",
   "metadata": {},
   "outputs": [],
   "source": [
    "from disk_analyzer.stages import ModelPipeline\n",
    "from disk_analyzer.models.DLClassifier import DLClassifier\n",
    "from disk_analyzer.models import SKLearnClassifier"
   ]
  },
  {
   "cell_type": "markdown",
   "id": "b2d1c18e",
   "metadata": {},
   "source": [
    "Теперь, данные, которые разбиты на батчи необходимо предобработать, разбить на train и test и т.д. Если во время этого процесса ноутбук крашится, значит машина не тянет такое количество данных и нужно из папки с батчами удалить часть данных. DataPreprocessor берёт все данные из папки storage_path и создаёт новую папку с данными разбитыми на train и test."
   ]
  },
  {
   "cell_type": "code",
   "execution_count": 11,
   "id": "154ec190",
   "metadata": {},
   "outputs": [],
   "source": [
    "# Для начала создадим класс, который воплощает в себе логику всего пайплайна модели\n",
    "MP = ModelPipeline()"
   ]
  },
  {
   "cell_type": "code",
   "execution_count": 12,
   "id": "08406d89",
   "metadata": {},
   "outputs": [
    {
     "name": "stdout",
     "output_type": "stream",
     "text": [
      "Fit_tr TimeTransformer\n",
      "Fit_tr DropDoubles\n"
     ]
    },
    {
     "name": "stderr",
     "output_type": "stream",
     "text": [
      "/home/dvarfe/Documents/HW/Backblaze_ML_Ops/disk_analyzer/stages/data_preprocessor.py:266: SettingWithCopyWarning: \n",
      "A value is trying to be set on a copy of a slice from a DataFrame.\n",
      "Try using .loc[row_indexer,col_indexer] = value instead\n",
      "\n",
      "See the caveats in the documentation: https://pandas.pydata.org/pandas-docs/stable/user_guide/indexing.html#returning-a-view-versus-a-copy\n",
      "  X[self.time_column] = X[self.time_column].astype('datetime64[ns]')\n",
      "/home/dvarfe/Documents/HW/Backblaze_ML_Ops/disk_analyzer/stages/data_preprocessor.py:268: SettingWithCopyWarning: \n",
      "A value is trying to be set on a copy of a slice from a DataFrame.\n",
      "Try using .loc[row_indexer,col_indexer] = value instead\n",
      "\n",
      "See the caveats in the documentation: https://pandas.pydata.org/pandas-docs/stable/user_guide/indexing.html#returning-a-view-versus-a-copy\n",
      "  X.loc[:, 'time'] = (X[self.time_column] - X.groupby('serial_number')\n",
      "/home/dvarfe/Documents/HW/Backblaze_ML_Ops/disk_analyzer/stages/data_preprocessor.py:273: SettingWithCopyWarning: \n",
      "A value is trying to be set on a copy of a slice from a DataFrame\n",
      "\n",
      "See the caveats in the documentation: https://pandas.pydata.org/pandas-docs/stable/user_guide/indexing.html#returning-a-view-versus-a-copy\n",
      "  X.drop(self.time_column, axis=1, inplace=True)\n"
     ]
    },
    {
     "name": "stdout",
     "output_type": "stream",
     "text": [
      "Fit_tr DropDuplicates\n",
      "Fit_tr FeatureFilter\n",
      "Fit_tr Nan_imputer\n",
      "Fit_tr CategoricalEncoder\n",
      "Fit_tr StandardScaler\n",
      "Fit_tr RandomSampler\n",
      "Fit_tr LabelShifter\n",
      "Fit_tr TimeLabeler\n",
      "Applying TimeTransformer\n"
     ]
    },
    {
     "name": "stderr",
     "output_type": "stream",
     "text": [
      "/home/dvarfe/Documents/HW/Backblaze_ML_Ops/disk_analyzer/stages/data_preprocessor.py:266: SettingWithCopyWarning: \n",
      "A value is trying to be set on a copy of a slice from a DataFrame.\n",
      "Try using .loc[row_indexer,col_indexer] = value instead\n",
      "\n",
      "See the caveats in the documentation: https://pandas.pydata.org/pandas-docs/stable/user_guide/indexing.html#returning-a-view-versus-a-copy\n",
      "  X[self.time_column] = X[self.time_column].astype('datetime64[ns]')\n",
      "/home/dvarfe/Documents/HW/Backblaze_ML_Ops/disk_analyzer/stages/data_preprocessor.py:268: SettingWithCopyWarning: \n",
      "A value is trying to be set on a copy of a slice from a DataFrame.\n",
      "Try using .loc[row_indexer,col_indexer] = value instead\n",
      "\n",
      "See the caveats in the documentation: https://pandas.pydata.org/pandas-docs/stable/user_guide/indexing.html#returning-a-view-versus-a-copy\n",
      "  X.loc[:, 'time'] = (X[self.time_column] - X.groupby('serial_number')\n",
      "/home/dvarfe/Documents/HW/Backblaze_ML_Ops/disk_analyzer/stages/data_preprocessor.py:273: SettingWithCopyWarning: \n",
      "A value is trying to be set on a copy of a slice from a DataFrame\n",
      "\n",
      "See the caveats in the documentation: https://pandas.pydata.org/pandas-docs/stable/user_guide/indexing.html#returning-a-view-versus-a-copy\n",
      "  X.drop(self.time_column, axis=1, inplace=True)\n"
     ]
    },
    {
     "name": "stdout",
     "output_type": "stream",
     "text": [
      "Applying DropDoubles\n",
      "Applying DropDuplicates\n",
      "Applying FeatureFilter\n",
      "Applying Nan_imputer\n",
      "Applying CategoricalEncoder\n",
      "Applying StandardScaler\n",
      "Applying RandomSampler\n",
      "Applying LabelShifter\n",
      "Applying TimeLabeler\n",
      "Save Preprocessed Data\n"
     ]
    },
    {
     "data": {
      "text/plain": [
       "'./Data/preprocessed/test'"
      ]
     },
     "execution_count": 12,
     "metadata": {},
     "output_type": "execute_result"
    }
   ],
   "source": [
    "import glob as glob\n",
    "import os\n",
    "data_paths = glob.glob(os.path.join(storage_path, '*.csv'))\n",
    "MP.preprocess(data_paths)"
   ]
  },
  {
   "cell_type": "markdown",
   "id": "3c038e4b",
   "metadata": {},
   "source": [
    "# Обучение"
   ]
  },
  {
   "cell_type": "markdown",
   "id": "78b53a05",
   "metadata": {},
   "source": [
    "Перед тем как обучить модель, необходимо передать её в пайплайн(если она не была задана заранее, например, из файла), с помощью set_model"
   ]
  },
  {
   "cell_type": "code",
   "execution_count": 13,
   "id": "4bf79ad5",
   "metadata": {},
   "outputs": [],
   "source": [
    "dl_model = DLClassifier(FEATURES_NUM)\n",
    "MP.set_model(dl_model, interface='torch')"
   ]
  },
  {
   "cell_type": "code",
   "execution_count": 14,
   "id": "4697011a",
   "metadata": {},
   "outputs": [
    {
     "name": "stdout",
     "output_type": "stream",
     "text": [
      "Epoch 1/1 - Loss: 8.2530\n"
     ]
    }
   ],
   "source": [
    "#Будем обучаться на одном файле\n",
    "fit_paths = ['Data/preprocessed/train/0_preprocessed.csv']\n",
    "# Если fit падает с ошибкой - поменяйте значение переменной FEATURES_NUM в файле constants. Управлять числом эпох можно там же, с помощью EPOCHS.\n",
    "MP.fit(fit_paths)"
   ]
  },
  {
   "cell_type": "code",
   "execution_count": 15,
   "id": "308b49ad",
   "metadata": {},
   "outputs": [
    {
     "name": "stderr",
     "output_type": "stream",
     "text": [
      " 90%|████████▉ | 1009/1124 [01:06<00:07, 15.21it/s]\n"
     ]
    }
   ],
   "source": [
    "# Считать качество будем на обучающей выборке\n",
    "ci, ibs = MP.score_model(fit_paths)"
   ]
  },
  {
   "cell_type": "code",
   "execution_count": 16,
   "id": "34164dbb",
   "metadata": {},
   "outputs": [
    {
     "name": "stdout",
     "output_type": "stream",
     "text": [
      "CI=0.7169051387465166, IBS=0.5501861675527848\n"
     ]
    }
   ],
   "source": [
    "print(f'CI={ci}, IBS={ibs}')"
   ]
  }
 ],
 "metadata": {
  "kernelspec": {
   "display_name": "Backblaze_ML_Ops-kX4ld0II",
   "language": "python",
   "name": "python3"
  },
  "language_info": {
   "codemirror_mode": {
    "name": "ipython",
    "version": 3
   },
   "file_extension": ".py",
   "mimetype": "text/x-python",
   "name": "python",
   "nbconvert_exporter": "python",
   "pygments_lexer": "ipython3",
   "version": "3.12.3"
  }
 },
 "nbformat": 4,
 "nbformat_minor": 5
}
